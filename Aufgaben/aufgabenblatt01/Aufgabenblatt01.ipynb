{
 "cells": [
  {
   "cell_type": "markdown",
   "id": "7e6a602e-be87-4212-ba8b-21cdcc9c97e1",
   "metadata": {},
   "source": [
    "# Tutorium Programmieren (Prof. Dr. Ralf Gerlich)\n",
    "# Aufgabenblatt 1"
   ]
  },
  {
   "cell_type": "markdown",
   "id": "433f7f90-c73a-44ff-8cf9-032bb80423dd",
   "metadata": {},
   "source": [
    "## Aufgabe 1: Algorithmen"
   ]
  },
  {
   "cell_type": "markdown",
   "id": "85ea4476-30d6-4ec6-8bc4-838b2a43a11b",
   "metadata": {},
   "source": [
    "Im Folgenden sind zwei Algorithmen in natürlicher Sprache vorgegeben. Eingabe ist eine Liste von Zahlen `L`, Ausgabe ist die Liste von Zahlen `S`."
   ]
  },
  {
   "cell_type": "markdown",
   "id": "903b6e3b-09fc-40e5-8a84-1b3b6f551906",
   "metadata": {},
   "source": [
    "### Algorithmus 1\n",
    "1. Setze `S` auf eine leere Liste.\n",
    "2. Wenn `L` leer ist, beende das Verfahren.\n",
    "3. Finde die kleinste Zahl in `L`. Wir bezeichnen diese Zahl mit `n`.\n",
    "4. Entferne die Zahl `n` aus `L`. (Wenn Sie mehrfach vorkommt, entferne Sie nur einmal.)\n",
    "5. Füge `n` hinten an `S` an.\n",
    "6. Setze bei Schritt 3 fort."
   ]
  },
  {
   "cell_type": "markdown",
   "id": "af7434a1-cdef-440d-8717-bf8311f0c043",
   "metadata": {},
   "source": [
    "### Algorithmus 2\n",
    "1. Setze `S` auf eine leere Liste.\n",
    "2. Wenn `L` leer ist, beende das Verfahren.\n",
    "3. Sei `n` die erste Zahl in `L`.\n",
    "4. Entferne die erste Zahl in `L`.\n",
    "5. Wenn `S` mindestens ein Element kleiner oder gleich `n` enthält: Finde die größte Zahl in `S`, die kleiner oder gleich `n` ist und füge `n` dahinter in `S` ein.\n",
    "6. Wenn `S` kein Element kleiner oder gleich `n` enthält (oder `S` leer ist): Füge `n` als erstes Element in `S` ein.\n",
    "7. Setze bei Schritt 3 fort."
   ]
  },
  {
   "cell_type": "markdown",
   "id": "37edef42-5fe2-4e70-bb0b-148293015839",
   "metadata": {},
   "source": [
    "### Frage\n",
    "Welches Problem lösen diese beiden Algorithmen?"
   ]
  },
  {
   "cell_type": "markdown",
   "id": "c9cf4d50-0bb9-440b-aad7-1a8621378e2a",
   "metadata": {},
   "source": [
    "**Ihre Antwort**:"
   ]
  },
  {
   "cell_type": "markdown",
   "id": "268c39cb-528a-4f52-b368-36ee521a95ca",
   "metadata": {},
   "source": [
    "**Hinweis**:\n",
    "\n",
    "Wenn Sie es den Algorithmen nicht ansehen (was keine Schande wäre!), können Sie sie ja einmal manuell auf einem Stück Papier (oder in einem Texteditor) ausführen. Um eine Liste zufälliger Zahlen zum Ausprobieren zu erhalten, führen Sie das folgende Stück Code aus. Setzen Sie dazu den Cursor auf die Code-Zelle und drücken Sie SHIFT+Return (gleichzeitig)."
   ]
  },
  {
   "cell_type": "code",
   "id": "ba3d57d0-4458-4aa9-9775-01081d2377e0",
   "metadata": {
    "ExecuteTime": {
     "end_time": "2025-10-16T11:18:10.245178Z",
     "start_time": "2025-10-16T11:18:10.230195Z"
    }
   },
   "source": [
    "import random\n",
    "random.seed()\n",
    "numbers = [random.randint(0,999) for i in range(10)]\n",
    "print(numbers)"
   ],
   "outputs": [
    {
     "name": "stdout",
     "output_type": "stream",
     "text": [
      "[223, 879, 602, 968, 719, 622, 611, 696, 791, 693]\n"
     ]
    }
   ],
   "execution_count": 1
  },
  {
   "cell_type": "markdown",
   "id": "27677fcc-0290-4391-9a57-6f7292d3c814",
   "metadata": {
    "jp-MarkdownHeadingCollapsed": true
   },
   "source": [
    "## Aufgabe 2: Operationen\n",
    "Betrachten Sie die folgenden Python-Ausdrücke und bestimmen Sie zunächst ohne Hilfe des Computers ihren Wert und den Typ des Werts. Überprüfen Sie Ihr Ergebnis danach, indem Sie die Ausdrücke mit Python auswerten.\n",
    "\n",
    "* `-7 + 3 * 8`\n",
    "* `17 / (5/3) * 4`\n",
    "* `(9 + (3 - (2 + 3))) / 2`\n",
    "* `5**4/2`\n",
    "* `int(-5/2)`"
   ]
  },
  {
   "cell_type": "markdown",
   "id": "212f64ea-13ef-4b20-b803-4a848bf62ef6",
   "metadata": {},
   "source": [
    "## Aufgage 3: Fehlerkorrektur\n",
    "Die folgenden Codebeispiele enthalten - teilweise mehrere - Fehler. Die `print`-Anweisungen enthalten Hinweise darauf, was das Ziel war.\n",
    "\n",
    "Korrigieren Sie die Fehler in den Beispielen. Versuchen Sie zunächst, den Fehler ohne Hilfe von Python zu finden, indem Sie den Code genau ansehen. Wenn Sie nicht weiterkommen, können Sie den Code von Python prüfen lassen, indem Sie ihn (mit STRG+Enter) ausführen."
   ]
  },
  {
   "cell_type": "code",
   "id": "e3ccd8d8-77ae-4b9e-8f42-2753cb95d3fd",
   "metadata": {
    "ExecuteTime": {
     "end_time": "2025-10-15T17:05:27.873734Z",
     "start_time": "2025-10-15T17:05:27.869044Z"
    }
   },
   "source": [
    "age = input(\"Wie alt bist du? \")\n",
    "if age => 18:\n",
    "    print(\"Du bist volljährig.\")\n",
    "else:\n",
    "    print(\"Du bist minderjährig.\")"
   ],
   "outputs": [
    {
     "ename": "SyntaxError",
     "evalue": "invalid syntax (2775398495.py, line 2)",
     "output_type": "error",
     "traceback": [
      "  \u001B[36mCell\u001B[39m\u001B[36m \u001B[39m\u001B[32mIn[3]\u001B[39m\u001B[32m, line 2\u001B[39m\n\u001B[31m    \u001B[39m\u001B[31mif age => 18:\u001B[39m\n           ^\n\u001B[31mSyntaxError\u001B[39m\u001B[31m:\u001B[39m invalid syntax\n"
     ]
    }
   ],
   "execution_count": 3
  },
  {
   "cell_type": "code",
   "execution_count": null,
   "id": "5e5cd64b-e3cf-41c3-a55d-7fe19906eec1",
   "metadata": {},
   "outputs": [],
   "source": [
    "x = 10\n",
    "if x = 10:\n",
    "    print(\"X ist 10\")\n",
    "else:\n",
    "    print(\"X ist nicht 10\")"
   ]
  },
  {
   "cell_type": "code",
   "execution_count": null,
   "id": "609d02a8-be2e-4253-9662-77673178948f",
   "metadata": {},
   "outputs": [],
   "source": [
    "x = 42\n",
    "\n",
    "if x > 42:\n",
    "print(\"X ist größer 42\")\n",
    "elif x < 42:\n",
    "print(\"X ist kleiner 42\")\n",
    "else:\n",
    "print(\"X gleich 42\")"
   ]
  },
  {
   "cell_type": "markdown",
   "id": "93c16ae6-4891-4719-bce4-db416009896d",
   "metadata": {},
   "source": [
    "## Aufgabe 4: Ostertermin\n",
    "Der deutsche Mathematiker Carl Friedrich Gauß hat im Jahr 1816 einen Algorithmus für die Berechnung des Osterdatums - genauer, des Ostersonntags - bereitgestellt. Angenommen, die Variable `Jahr` enthält die Jahreszahl (z.B. 2024 für das Jahr 2024), so berechnen die folgenden nacheinander anzuwendenden Formeln das Osterdatum:\n",
    "\n",
    "```\n",
    "a = Jahr mod 19\n",
    "b = Jahr mod 4\n",
    "c = Jahr mod 7\n",
    "k = Jahr div 100\n",
    "p = (8k+13) div 25\n",
    "q = k div 4\n",
    "M = (15 + k - p - q) mod 30\n",
    "d = (19a + M) mod 30\n",
    "N = (4 + k - q) mod 7\n",
    "e = (2b + 4c + 6d + N) mod 7\n",
    "f = 22+d+e\n",
    "```\n",
    "\n",
    "Dabei ist `div` die Ganzzahldivision (d.h. beim Ergebnis werden die Nachkommastellen abgeschnitten) und `mod` der Divionsrest.\n",
    "\n",
    "Ostern liegt dann am `f`-ten März, wobei der 32. März hier dem 1. April, der 33. März dem 2. April usw. entspricht.\n",
    "\n",
    "Schreiben Sie nun ein in der folgenden Zelle ein Stück Code, das\n",
    "* die Jahreszahl als Eingabe mit Hilfe von `input()` einliest,\n",
    "* die Berechnungen für das Osterdatum ausführt und\n",
    "* das Osterdatum in der Form \"Tag. Monat\" ausgibt.\n",
    "\n",
    "Beispiel: Für die Eingabe `2025` sollte die Ausgabe `20. April 2025` lauten.\n",
    "\n",
    "**Wichtig**: Der Ostertermin liegt immer entweder im März oder im April.\n",
    "\n",
    "Testen Sie Ihren Code zumindest für die kommenden drei Ostertermine."
   ]
  },
  {
   "cell_type": "code",
   "execution_count": null,
   "id": "376bc209-3530-4040-8816-33bf62ca6b79",
   "metadata": {},
   "outputs": [],
   "source": []
  }
 ],
 "metadata": {
  "kernelspec": {
   "display_name": "Python 3 (ipykernel)",
   "language": "python",
   "name": "python3"
  },
  "language_info": {
   "codemirror_mode": {
    "name": "ipython",
    "version": 3
   },
   "file_extension": ".py",
   "mimetype": "text/x-python",
   "name": "python",
   "nbconvert_exporter": "python",
   "pygments_lexer": "ipython3",
   "version": "3.12.9"
  }
 },
 "nbformat": 4,
 "nbformat_minor": 5
}
