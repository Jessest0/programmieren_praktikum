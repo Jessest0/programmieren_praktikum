{
 "cells": [
  {
   "cell_type": "markdown",
   "id": "7e6a602e-be87-4212-ba8b-21cdcc9c97e1",
   "metadata": {},
   "source": [
    "# Tutorium Programmieren (Prof. Dr. Ralf Gerlich) - Aufgabenblatt 2"
   ]
  },
  {
   "cell_type": "markdown",
   "id": "9f062b45-3491-42b3-947e-4163f82af8ac",
   "metadata": {},
   "source": [
    "## Aufgabe 1: Pyramide\n",
    "Schreiben Sie eine Funktion `pyramid`, die eine Pyramide mit der angegebenen Anzahl von Ebenen ausgibt.\n",
    "\n",
    "Beachten Sie dabei, dass Leerzeichen mit einem Punkt gefüllt werden.\n",
    "\n",
    "Beispiel: `levels = 4`\n",
    "```\n",
    " ...#\n",
    " ..##\n",
    " .###\n",
    " ####\n",
    "```"
   ]
  },
  {
   "cell_type": "code",
   "execution_count": 6,
   "id": "43ae947d-08ef-4fdc-a642-4b9433eb25b8",
   "metadata": {},
   "outputs": [],
   "source": [
    "def pyramid(n):\n",
    "    # TODO: Schreiben Sie hier Ihren Code!\n",
    "    pass"
   ]
  },
  {
   "cell_type": "markdown",
   "id": "744c35ac-dbeb-4c73-8171-95b1ea8ca440",
   "metadata": {},
   "source": [
    "## Aufgabe 2: Größter Gemeinsamer Teiler\n",
    "Schreiben Sie eine Funktion `ggt`, die den größten gemeinsamen Teiler zweier gegebener natürlicher Zahlen (1,2,3,...) berechnet.\n",
    "Der größte gemeinsame Teiler zweier ganzer Zahlen ist die größte Zahl, die beide Zahlen ohne Rest teilt.\n",
    "So ist etwa der größte gemeinsame Teiler von 6 und 9 die Zahl 3.\n",
    "\n",
    "Für die Berechnung verwenden wir den [euklidschen Algorithmus](https://de.wikipedia.org/wiki/Euklidischer_Algorithmus).\n",
    "Der Algorithmus lautet wie folgt:\n",
    "\n",
    "* Gegeben seien die beiden natürliche Zahlen `a` und `b`. (Sie müssen nicht prüfen, ob es sich um natürliche Zahlen handelt!)\n",
    "* Es müssen folgende Schritte ausgeführt werden.\n",
    "    1. Wenn `a` und `b` gleich sind, beende das Verfahren. `a` und `b` sind der größte gemeinsame Teiler des ursprünglichen Zahlenpaares.\n",
    "    2. Ansonsten ersetze die größere Zahl durch die Differenz von größerer und kleinerer Zahl (z.B. `a=a-b` wenn `a` die größere Zahl ist).\n",
    "    3. Setze bei Schritt 1 fort.\n",
    "\n",
    "**Beispielrechnung für `a=27` und `b=18`**:\n",
    "1. Die Zahlen sind nicht gleich. `a` ist größer, also ersetzen wir `a` durch `a-b=27-18=9` und setzen mit den neuen Zahlen `a=9` und `b=18` fort.\n",
    "2. Die Zahlen sind nicht gleich. `b` ist größer, also ersetzen wir `b` durch `b-a=18-9=9` und setzen mit den neuen Zahlen `a=9` und `b=9` fort.\n",
    "3. Die Zahlen sind gleich. Der größte gemeinsame Teiler ist also `9`.\n",
    "\n",
    "**Beispiel**: Das Ergebnis von `gcd(18, 783)` sollte `9` sein.\n",
    "\n",
    "Testen Sie Ihre Implementierung."
   ]
  },
  {
   "cell_type": "code",
   "execution_count": 4,
   "id": "458cbe8d-3191-4476-ab85-bebc1008e068",
   "metadata": {},
   "outputs": [],
   "source": [
    "def ggt(a, b):\n",
    "    # TODO: Schreiben Sie hier Ihren Code!\n",
    "    pass"
   ]
  },
  {
   "cell_type": "markdown",
   "id": "50af8614-9bc5-43d1-a765-28d2a55350dd",
   "metadata": {},
   "source": [
    "**Hinweis:** Die `pass`-Anweisung entspricht in Python einer leeren Anweisung, die nichts tut. Sie wird häufig als Platzhalter eingesetzt, wenn ein Block erforderlich ist (z.B. bei einer Schleife), aber der Rumpf leer bleiben soll. Ohne die `pass`-Anweisung würde ein leerer Rumpf sonst zu einer Fehlermeldung führen."
   ]
  },
  {
   "cell_type": "markdown",
   "id": "7ddbbd1d-88d7-4584-99d9-5e1791591a70",
   "metadata": {},
   "source": [
    "## Aufgage 3: Primzahlen erkennen\n",
    "Schreiben Sie eine Funktion `ist_prim`, die `True` zurückgibt, wenn die übergebene natürliche Zahl (1, 2, 3, ...) eine Primzahl ist, und ansonsten `False`.\n",
    "Eine natürliche Zahl `n` ist genau dann eine Primzahl, wenn sie größer als 1 ist und durch keine der ganzen Zahlen von `2` bis `n-1` (jeweils einschließlich) ohne Rest teilbar ist.\n",
    "\n",
    "**Hinweis**: Sie dürfen annehmen, dass die übergebene Zahl eine natürliche Zahl ist!\n",
    "\n",
    "**Beispiel**: Das Ergebnis von `ist_prim(29)` soll `True` sein, das von `ist_prim(25)` soll `False` sein (da 25 durch 5 teilbar ist)."
   ]
  },
  {
   "cell_type": "code",
   "execution_count": 7,
   "id": "7ba5fb07-e210-413e-bd5d-b71bdd2a80fe",
   "metadata": {},
   "outputs": [],
   "source": [
    "def ist_prim(n):\n",
    "    # TODO: Schreiben Sie hier Ihren Code!\n",
    "    pass"
   ]
  },
  {
   "cell_type": "markdown",
   "id": "6e9358f3-4856-4f03-8c12-716fc1064d05",
   "metadata": {},
   "source": [
    "## Aufgabe 4: EAN-13 oder ISBN-13 prüfen\n",
    "Bücher und andere Waren werden häufig mit Artikelnummern ausgezeichnet. Häufig werden dafür die Systeme ISBN (International Standard Book Number) oder EAN (European Article Number) verwendet.\n",
    "\n",
    "Die Spezialformen EAN-13 und ISBN-13 bestehen jeweils aus 13 Ziffern, wobei nicht alle dieser Ziffern frei wählbar sind. Vielmehr gibt es einen Test, mit dem sich prüfen lässt, ob eine bestimmte Ziffernfolge eine valide EAN-13 oder ISBN-13 ist:\n",
    "\n",
    "1. Multiplizieren Sie jede Ziffer der Nummer abwechselnd mit 1 und 3, beginnend mit 1 für die erste Ziffer.\n",
    "2. Addieren Sie alle Ergebnisse dieser Multiplikationen.\n",
    "3. Wenn die resultierende Summe durch 10 teilbar ist, dann ist die Nummer gültig. Andernfalls ist sie ungültig.\n",
    "\n",
    "Implementieren Sie eine Funktion `validate_code(code)`, die einen String `code` mit genau 13 Ziffern nimmt und prüft, ob es sich um eine gültige ISBN-13 oder EAN-13 Nummer handelt. Die Funktion soll `True` zurückgeben, wenn die Nummer gültig ist, und `False`, wenn sie ungültig ist.\n",
    "\n",
    "Testen Sie die Funktion mit einer ISBN-13 oder einer EAN-13 eines Buchs oder Artikels in Ihrem Umfeld (z.B. Ihrer Trinkflasche). Modifizieren Sie eine Ziffer des Codes und prüfen Sie, ob der so veränderte Code als invalide erkannt wird.\n",
    "\n",
    "### Hinweis zur Implementierung\n",
    "\n",
    "Verwenden Sie eine `for`-Schleife, um über die Ziffern des Codes zu iterieren, und bedenken Sie, dass Sie Ziffern eines Strings direkt in Integer umwandeln können, um die Berechnungen durchzuführen."
   ]
  },
  {
   "cell_type": "code",
   "execution_count": 7,
   "id": "eb1e9cf2-f507-4b28-a6b1-35f34f47dae3",
   "metadata": {},
   "outputs": [
    {
     "name": "stdin",
     "output_type": "stream",
     "text": [
      "Geben Sie einen EAN-13- oder ISBN-13-Code ein: 123\n"
     ]
    },
    {
     "name": "stdout",
     "output_type": "stream",
     "text": [
      "Dieser Code ist nicht valide\n"
     ]
    }
   ],
   "source": [
    "def validate_code(code):\n",
    "    # TODO\n",
    "    pass\n",
    "\n",
    "code = input(\"Geben Sie einen EAN-13- oder ISBN-13-Code ein:\")\n",
    "if validate_code(code):\n",
    "    print(\"Dieser Code ist valide\")\n",
    "else:\n",
    "    print(\"Dieser Code ist nicht valide\")"
   ]
  }
 ],
 "metadata": {
  "kernelspec": {
   "display_name": "Python 3 (ipykernel)",
   "language": "python",
   "name": "python3"
  },
  "language_info": {
   "codemirror_mode": {
    "name": "ipython",
    "version": 3
   },
   "file_extension": ".py",
   "mimetype": "text/x-python",
   "name": "python",
   "nbconvert_exporter": "python",
   "pygments_lexer": "ipython3",
   "version": "3.12.9"
  }
 },
 "nbformat": 4,
 "nbformat_minor": 5
}
